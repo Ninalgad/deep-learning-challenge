{
  "cells": [
    {
      "cell_type": "markdown",
      "metadata": {
        "id": "KWbgbyzbiOoM"
      },
      "source": [
        "## Preprocessing"
      ]
    },
    {
      "cell_type": "code",
      "execution_count": 77,
      "metadata": {
        "colab": {
          "base_uri": "https://localhost:8080/",
          "height": 451
        },
        "id": "62KRO70iiOoT",
        "outputId": "3d882a9c-c9d6-47bc-ba36-5aba42c941d2"
      },
      "outputs": [
        {
          "output_type": "execute_result",
          "data": {
            "text/plain": [
              "        EIN                                      NAME APPLICATION_TYPE  \\\n",
              "0  10520599              BLUE KNIGHTS MOTORCYCLE CLUB              T10   \n",
              "1  10531628    AMERICAN CHESAPEAKE CLUB CHARITABLE TR               T3   \n",
              "2  10547893        ST CLOUD PROFESSIONAL FIREFIGHTERS               T5   \n",
              "3  10553066            SOUTHSIDE ATHLETIC ASSOCIATION               T3   \n",
              "4  10556103  GENETIC RESEARCH INSTITUTE OF THE DESERT               T3   \n",
              "\n",
              "        AFFILIATION CLASSIFICATION      USE_CASE  ORGANIZATION  STATUS  \\\n",
              "0       Independent          C1000    ProductDev   Association       1   \n",
              "1       Independent          C2000  Preservation  Co-operative       1   \n",
              "2  CompanySponsored          C3000    ProductDev   Association       1   \n",
              "3  CompanySponsored          C2000  Preservation         Trust       1   \n",
              "4       Independent          C1000     Heathcare         Trust       1   \n",
              "\n",
              "      INCOME_AMT SPECIAL_CONSIDERATIONS  ASK_AMT  IS_SUCCESSFUL  \n",
              "0              0                      N     5000              1  \n",
              "1         1-9999                      N   108590              1  \n",
              "2              0                      N     5000              0  \n",
              "3    10000-24999                      N     6692              1  \n",
              "4  100000-499999                      N   142590              1  "
            ],
            "text/html": [
              "\n",
              "  <div id=\"df-cc3495b6-e451-4506-9246-d53394d12f33\" class=\"colab-df-container\">\n",
              "    <div>\n",
              "<style scoped>\n",
              "    .dataframe tbody tr th:only-of-type {\n",
              "        vertical-align: middle;\n",
              "    }\n",
              "\n",
              "    .dataframe tbody tr th {\n",
              "        vertical-align: top;\n",
              "    }\n",
              "\n",
              "    .dataframe thead th {\n",
              "        text-align: right;\n",
              "    }\n",
              "</style>\n",
              "<table border=\"1\" class=\"dataframe\">\n",
              "  <thead>\n",
              "    <tr style=\"text-align: right;\">\n",
              "      <th></th>\n",
              "      <th>EIN</th>\n",
              "      <th>NAME</th>\n",
              "      <th>APPLICATION_TYPE</th>\n",
              "      <th>AFFILIATION</th>\n",
              "      <th>CLASSIFICATION</th>\n",
              "      <th>USE_CASE</th>\n",
              "      <th>ORGANIZATION</th>\n",
              "      <th>STATUS</th>\n",
              "      <th>INCOME_AMT</th>\n",
              "      <th>SPECIAL_CONSIDERATIONS</th>\n",
              "      <th>ASK_AMT</th>\n",
              "      <th>IS_SUCCESSFUL</th>\n",
              "    </tr>\n",
              "  </thead>\n",
              "  <tbody>\n",
              "    <tr>\n",
              "      <th>0</th>\n",
              "      <td>10520599</td>\n",
              "      <td>BLUE KNIGHTS MOTORCYCLE CLUB</td>\n",
              "      <td>T10</td>\n",
              "      <td>Independent</td>\n",
              "      <td>C1000</td>\n",
              "      <td>ProductDev</td>\n",
              "      <td>Association</td>\n",
              "      <td>1</td>\n",
              "      <td>0</td>\n",
              "      <td>N</td>\n",
              "      <td>5000</td>\n",
              "      <td>1</td>\n",
              "    </tr>\n",
              "    <tr>\n",
              "      <th>1</th>\n",
              "      <td>10531628</td>\n",
              "      <td>AMERICAN CHESAPEAKE CLUB CHARITABLE TR</td>\n",
              "      <td>T3</td>\n",
              "      <td>Independent</td>\n",
              "      <td>C2000</td>\n",
              "      <td>Preservation</td>\n",
              "      <td>Co-operative</td>\n",
              "      <td>1</td>\n",
              "      <td>1-9999</td>\n",
              "      <td>N</td>\n",
              "      <td>108590</td>\n",
              "      <td>1</td>\n",
              "    </tr>\n",
              "    <tr>\n",
              "      <th>2</th>\n",
              "      <td>10547893</td>\n",
              "      <td>ST CLOUD PROFESSIONAL FIREFIGHTERS</td>\n",
              "      <td>T5</td>\n",
              "      <td>CompanySponsored</td>\n",
              "      <td>C3000</td>\n",
              "      <td>ProductDev</td>\n",
              "      <td>Association</td>\n",
              "      <td>1</td>\n",
              "      <td>0</td>\n",
              "      <td>N</td>\n",
              "      <td>5000</td>\n",
              "      <td>0</td>\n",
              "    </tr>\n",
              "    <tr>\n",
              "      <th>3</th>\n",
              "      <td>10553066</td>\n",
              "      <td>SOUTHSIDE ATHLETIC ASSOCIATION</td>\n",
              "      <td>T3</td>\n",
              "      <td>CompanySponsored</td>\n",
              "      <td>C2000</td>\n",
              "      <td>Preservation</td>\n",
              "      <td>Trust</td>\n",
              "      <td>1</td>\n",
              "      <td>10000-24999</td>\n",
              "      <td>N</td>\n",
              "      <td>6692</td>\n",
              "      <td>1</td>\n",
              "    </tr>\n",
              "    <tr>\n",
              "      <th>4</th>\n",
              "      <td>10556103</td>\n",
              "      <td>GENETIC RESEARCH INSTITUTE OF THE DESERT</td>\n",
              "      <td>T3</td>\n",
              "      <td>Independent</td>\n",
              "      <td>C1000</td>\n",
              "      <td>Heathcare</td>\n",
              "      <td>Trust</td>\n",
              "      <td>1</td>\n",
              "      <td>100000-499999</td>\n",
              "      <td>N</td>\n",
              "      <td>142590</td>\n",
              "      <td>1</td>\n",
              "    </tr>\n",
              "  </tbody>\n",
              "</table>\n",
              "</div>\n",
              "    <div class=\"colab-df-buttons\">\n",
              "\n",
              "  <div class=\"colab-df-container\">\n",
              "    <button class=\"colab-df-convert\" onclick=\"convertToInteractive('df-cc3495b6-e451-4506-9246-d53394d12f33')\"\n",
              "            title=\"Convert this dataframe to an interactive table.\"\n",
              "            style=\"display:none;\">\n",
              "\n",
              "  <svg xmlns=\"http://www.w3.org/2000/svg\" height=\"24px\" viewBox=\"0 -960 960 960\">\n",
              "    <path d=\"M120-120v-720h720v720H120Zm60-500h600v-160H180v160Zm220 220h160v-160H400v160Zm0 220h160v-160H400v160ZM180-400h160v-160H180v160Zm440 0h160v-160H620v160ZM180-180h160v-160H180v160Zm440 0h160v-160H620v160Z\"/>\n",
              "  </svg>\n",
              "    </button>\n",
              "\n",
              "  <style>\n",
              "    .colab-df-container {\n",
              "      display:flex;\n",
              "      gap: 12px;\n",
              "    }\n",
              "\n",
              "    .colab-df-convert {\n",
              "      background-color: #E8F0FE;\n",
              "      border: none;\n",
              "      border-radius: 50%;\n",
              "      cursor: pointer;\n",
              "      display: none;\n",
              "      fill: #1967D2;\n",
              "      height: 32px;\n",
              "      padding: 0 0 0 0;\n",
              "      width: 32px;\n",
              "    }\n",
              "\n",
              "    .colab-df-convert:hover {\n",
              "      background-color: #E2EBFA;\n",
              "      box-shadow: 0px 1px 2px rgba(60, 64, 67, 0.3), 0px 1px 3px 1px rgba(60, 64, 67, 0.15);\n",
              "      fill: #174EA6;\n",
              "    }\n",
              "\n",
              "    .colab-df-buttons div {\n",
              "      margin-bottom: 4px;\n",
              "    }\n",
              "\n",
              "    [theme=dark] .colab-df-convert {\n",
              "      background-color: #3B4455;\n",
              "      fill: #D2E3FC;\n",
              "    }\n",
              "\n",
              "    [theme=dark] .colab-df-convert:hover {\n",
              "      background-color: #434B5C;\n",
              "      box-shadow: 0px 1px 3px 1px rgba(0, 0, 0, 0.15);\n",
              "      filter: drop-shadow(0px 1px 2px rgba(0, 0, 0, 0.3));\n",
              "      fill: #FFFFFF;\n",
              "    }\n",
              "  </style>\n",
              "\n",
              "    <script>\n",
              "      const buttonEl =\n",
              "        document.querySelector('#df-cc3495b6-e451-4506-9246-d53394d12f33 button.colab-df-convert');\n",
              "      buttonEl.style.display =\n",
              "        google.colab.kernel.accessAllowed ? 'block' : 'none';\n",
              "\n",
              "      async function convertToInteractive(key) {\n",
              "        const element = document.querySelector('#df-cc3495b6-e451-4506-9246-d53394d12f33');\n",
              "        const dataTable =\n",
              "          await google.colab.kernel.invokeFunction('convertToInteractive',\n",
              "                                                    [key], {});\n",
              "        if (!dataTable) return;\n",
              "\n",
              "        const docLinkHtml = 'Like what you see? Visit the ' +\n",
              "          '<a target=\"_blank\" href=https://colab.research.google.com/notebooks/data_table.ipynb>data table notebook</a>'\n",
              "          + ' to learn more about interactive tables.';\n",
              "        element.innerHTML = '';\n",
              "        dataTable['output_type'] = 'display_data';\n",
              "        await google.colab.output.renderOutput(dataTable, element);\n",
              "        const docLink = document.createElement('div');\n",
              "        docLink.innerHTML = docLinkHtml;\n",
              "        element.appendChild(docLink);\n",
              "      }\n",
              "    </script>\n",
              "  </div>\n",
              "\n",
              "\n",
              "<div id=\"df-9e3e513b-eea0-4816-b7b0-230280a15c30\">\n",
              "  <button class=\"colab-df-quickchart\" onclick=\"quickchart('df-9e3e513b-eea0-4816-b7b0-230280a15c30')\"\n",
              "            title=\"Suggest charts\"\n",
              "            style=\"display:none;\">\n",
              "\n",
              "<svg xmlns=\"http://www.w3.org/2000/svg\" height=\"24px\"viewBox=\"0 0 24 24\"\n",
              "     width=\"24px\">\n",
              "    <g>\n",
              "        <path d=\"M19 3H5c-1.1 0-2 .9-2 2v14c0 1.1.9 2 2 2h14c1.1 0 2-.9 2-2V5c0-1.1-.9-2-2-2zM9 17H7v-7h2v7zm4 0h-2V7h2v10zm4 0h-2v-4h2v4z\"/>\n",
              "    </g>\n",
              "</svg>\n",
              "  </button>\n",
              "\n",
              "<style>\n",
              "  .colab-df-quickchart {\n",
              "      --bg-color: #E8F0FE;\n",
              "      --fill-color: #1967D2;\n",
              "      --hover-bg-color: #E2EBFA;\n",
              "      --hover-fill-color: #174EA6;\n",
              "      --disabled-fill-color: #AAA;\n",
              "      --disabled-bg-color: #DDD;\n",
              "  }\n",
              "\n",
              "  [theme=dark] .colab-df-quickchart {\n",
              "      --bg-color: #3B4455;\n",
              "      --fill-color: #D2E3FC;\n",
              "      --hover-bg-color: #434B5C;\n",
              "      --hover-fill-color: #FFFFFF;\n",
              "      --disabled-bg-color: #3B4455;\n",
              "      --disabled-fill-color: #666;\n",
              "  }\n",
              "\n",
              "  .colab-df-quickchart {\n",
              "    background-color: var(--bg-color);\n",
              "    border: none;\n",
              "    border-radius: 50%;\n",
              "    cursor: pointer;\n",
              "    display: none;\n",
              "    fill: var(--fill-color);\n",
              "    height: 32px;\n",
              "    padding: 0;\n",
              "    width: 32px;\n",
              "  }\n",
              "\n",
              "  .colab-df-quickchart:hover {\n",
              "    background-color: var(--hover-bg-color);\n",
              "    box-shadow: 0 1px 2px rgba(60, 64, 67, 0.3), 0 1px 3px 1px rgba(60, 64, 67, 0.15);\n",
              "    fill: var(--button-hover-fill-color);\n",
              "  }\n",
              "\n",
              "  .colab-df-quickchart-complete:disabled,\n",
              "  .colab-df-quickchart-complete:disabled:hover {\n",
              "    background-color: var(--disabled-bg-color);\n",
              "    fill: var(--disabled-fill-color);\n",
              "    box-shadow: none;\n",
              "  }\n",
              "\n",
              "  .colab-df-spinner {\n",
              "    border: 2px solid var(--fill-color);\n",
              "    border-color: transparent;\n",
              "    border-bottom-color: var(--fill-color);\n",
              "    animation:\n",
              "      spin 1s steps(1) infinite;\n",
              "  }\n",
              "\n",
              "  @keyframes spin {\n",
              "    0% {\n",
              "      border-color: transparent;\n",
              "      border-bottom-color: var(--fill-color);\n",
              "      border-left-color: var(--fill-color);\n",
              "    }\n",
              "    20% {\n",
              "      border-color: transparent;\n",
              "      border-left-color: var(--fill-color);\n",
              "      border-top-color: var(--fill-color);\n",
              "    }\n",
              "    30% {\n",
              "      border-color: transparent;\n",
              "      border-left-color: var(--fill-color);\n",
              "      border-top-color: var(--fill-color);\n",
              "      border-right-color: var(--fill-color);\n",
              "    }\n",
              "    40% {\n",
              "      border-color: transparent;\n",
              "      border-right-color: var(--fill-color);\n",
              "      border-top-color: var(--fill-color);\n",
              "    }\n",
              "    60% {\n",
              "      border-color: transparent;\n",
              "      border-right-color: var(--fill-color);\n",
              "    }\n",
              "    80% {\n",
              "      border-color: transparent;\n",
              "      border-right-color: var(--fill-color);\n",
              "      border-bottom-color: var(--fill-color);\n",
              "    }\n",
              "    90% {\n",
              "      border-color: transparent;\n",
              "      border-bottom-color: var(--fill-color);\n",
              "    }\n",
              "  }\n",
              "</style>\n",
              "\n",
              "  <script>\n",
              "    async function quickchart(key) {\n",
              "      const quickchartButtonEl =\n",
              "        document.querySelector('#' + key + ' button');\n",
              "      quickchartButtonEl.disabled = true;  // To prevent multiple clicks.\n",
              "      quickchartButtonEl.classList.add('colab-df-spinner');\n",
              "      try {\n",
              "        const charts = await google.colab.kernel.invokeFunction(\n",
              "            'suggestCharts', [key], {});\n",
              "      } catch (error) {\n",
              "        console.error('Error during call to suggestCharts:', error);\n",
              "      }\n",
              "      quickchartButtonEl.classList.remove('colab-df-spinner');\n",
              "      quickchartButtonEl.classList.add('colab-df-quickchart-complete');\n",
              "    }\n",
              "    (() => {\n",
              "      let quickchartButtonEl =\n",
              "        document.querySelector('#df-9e3e513b-eea0-4816-b7b0-230280a15c30 button');\n",
              "      quickchartButtonEl.style.display =\n",
              "        google.colab.kernel.accessAllowed ? 'block' : 'none';\n",
              "    })();\n",
              "  </script>\n",
              "</div>\n",
              "\n",
              "    </div>\n",
              "  </div>\n"
            ],
            "application/vnd.google.colaboratory.intrinsic+json": {
              "type": "dataframe",
              "variable_name": "application_df",
              "summary": "{\n  \"name\": \"application_df\",\n  \"rows\": 34299,\n  \"fields\": [\n    {\n      \"column\": \"EIN\",\n      \"properties\": {\n        \"dtype\": \"number\",\n        \"std\": 245147183,\n        \"min\": 10520599,\n        \"max\": 996086871,\n        \"num_unique_values\": 34299,\n        \"samples\": [\n          271598055,\n          900109768,\n          352562499\n        ],\n        \"semantic_type\": \"\",\n        \"description\": \"\"\n      }\n    },\n    {\n      \"column\": \"NAME\",\n      \"properties\": {\n        \"dtype\": \"string\",\n        \"num_unique_values\": 19568,\n        \"samples\": [\n          \"LOCAL 12 USW GOODYEAR INSTITUTE FORCAREER DEVELOPMENT\",\n          \"INTERNATION ASSOCIATION OF ELECTRICAL INSPECTORS\",\n          \"BRICKLAYERS & ALLIED CRAFTWORKERS LOCAL 13 VACATION FUND\"\n        ],\n        \"semantic_type\": \"\",\n        \"description\": \"\"\n      }\n    },\n    {\n      \"column\": \"APPLICATION_TYPE\",\n      \"properties\": {\n        \"dtype\": \"category\",\n        \"num_unique_values\": 17,\n        \"samples\": [\n          \"T10\",\n          \"T3\",\n          \"T6\"\n        ],\n        \"semantic_type\": \"\",\n        \"description\": \"\"\n      }\n    },\n    {\n      \"column\": \"AFFILIATION\",\n      \"properties\": {\n        \"dtype\": \"category\",\n        \"num_unique_values\": 6,\n        \"samples\": [\n          \"Independent\",\n          \"CompanySponsored\",\n          \"Other\"\n        ],\n        \"semantic_type\": \"\",\n        \"description\": \"\"\n      }\n    },\n    {\n      \"column\": \"CLASSIFICATION\",\n      \"properties\": {\n        \"dtype\": \"category\",\n        \"num_unique_values\": 71,\n        \"samples\": [\n          \"C1500\",\n          \"C1000\",\n          \"C1570\"\n        ],\n        \"semantic_type\": \"\",\n        \"description\": \"\"\n      }\n    },\n    {\n      \"column\": \"USE_CASE\",\n      \"properties\": {\n        \"dtype\": \"category\",\n        \"num_unique_values\": 5,\n        \"samples\": [\n          \"Preservation\",\n          \"Other\",\n          \"Heathcare\"\n        ],\n        \"semantic_type\": \"\",\n        \"description\": \"\"\n      }\n    },\n    {\n      \"column\": \"ORGANIZATION\",\n      \"properties\": {\n        \"dtype\": \"category\",\n        \"num_unique_values\": 4,\n        \"samples\": [\n          \"Co-operative\",\n          \"Corporation\",\n          \"Association\"\n        ],\n        \"semantic_type\": \"\",\n        \"description\": \"\"\n      }\n    },\n    {\n      \"column\": \"STATUS\",\n      \"properties\": {\n        \"dtype\": \"number\",\n        \"std\": 0,\n        \"min\": 0,\n        \"max\": 1,\n        \"num_unique_values\": 2,\n        \"samples\": [\n          0,\n          1\n        ],\n        \"semantic_type\": \"\",\n        \"description\": \"\"\n      }\n    },\n    {\n      \"column\": \"INCOME_AMT\",\n      \"properties\": {\n        \"dtype\": \"category\",\n        \"num_unique_values\": 9,\n        \"samples\": [\n          \"1M-5M\",\n          \"1-9999\"\n        ],\n        \"semantic_type\": \"\",\n        \"description\": \"\"\n      }\n    },\n    {\n      \"column\": \"SPECIAL_CONSIDERATIONS\",\n      \"properties\": {\n        \"dtype\": \"category\",\n        \"num_unique_values\": 2,\n        \"samples\": [\n          \"Y\",\n          \"N\"\n        ],\n        \"semantic_type\": \"\",\n        \"description\": \"\"\n      }\n    },\n    {\n      \"column\": \"ASK_AMT\",\n      \"properties\": {\n        \"dtype\": \"number\",\n        \"std\": 87130452,\n        \"min\": 5000,\n        \"max\": 8597806340,\n        \"num_unique_values\": 8747,\n        \"samples\": [\n          1328927,\n          42942\n        ],\n        \"semantic_type\": \"\",\n        \"description\": \"\"\n      }\n    },\n    {\n      \"column\": \"IS_SUCCESSFUL\",\n      \"properties\": {\n        \"dtype\": \"number\",\n        \"std\": 0,\n        \"min\": 0,\n        \"max\": 1,\n        \"num_unique_values\": 2,\n        \"samples\": [\n          0,\n          1\n        ],\n        \"semantic_type\": \"\",\n        \"description\": \"\"\n      }\n    }\n  ]\n}"
            }
          },
          "metadata": {},
          "execution_count": 77
        }
      ],
      "source": [
        "# Import our dependencies\n",
        "from sklearn.model_selection import train_test_split\n",
        "from sklearn.preprocessing import StandardScaler\n",
        "import pandas as pd\n",
        "import tensorflow as tf\n",
        "\n",
        "# Import and read the charity_data.csv.\n",
        "import pandas as pd\n",
        "application_df = pd.read_csv(\"https://static.bc-edx.com/data/dl-1-2/m21/lms/starter/charity_data.csv\")\n",
        "application_df.head()"
      ]
    },
    {
      "cell_type": "code",
      "execution_count": 78,
      "metadata": {
        "id": "08SNNAzDiOoV"
      },
      "outputs": [],
      "source": [
        "# Drop the non-beneficial ID columns, 'EIN' and 'NAME'.\n",
        "application_df = application_df.drop(['EIN', 'NAME'], axis=1)"
      ]
    },
    {
      "cell_type": "code",
      "execution_count": 79,
      "metadata": {
        "colab": {
          "base_uri": "https://localhost:8080/"
        },
        "id": "gLCKotSaiOoW",
        "outputId": "1736379d-eb27-47ac-e5cb-72dd57730275"
      },
      "outputs": [
        {
          "output_type": "execute_result",
          "data": {
            "text/plain": [
              "APPLICATION_TYPE            17\n",
              "AFFILIATION                  6\n",
              "CLASSIFICATION              71\n",
              "USE_CASE                     5\n",
              "ORGANIZATION                 4\n",
              "STATUS                       2\n",
              "INCOME_AMT                   9\n",
              "SPECIAL_CONSIDERATIONS       2\n",
              "ASK_AMT                   8747\n",
              "IS_SUCCESSFUL                2\n",
              "dtype: int64"
            ]
          },
          "metadata": {},
          "execution_count": 79
        }
      ],
      "source": [
        "# Determine the number of unique values in each column.\n",
        "application_df.nunique()"
      ]
    },
    {
      "cell_type": "code",
      "execution_count": 80,
      "metadata": {
        "colab": {
          "base_uri": "https://localhost:8080/"
        },
        "id": "m_yY0O-2iOoW",
        "outputId": "9ef2209c-e086-431e-8512-d47e37200d69"
      },
      "outputs": [
        {
          "output_type": "execute_result",
          "data": {
            "text/plain": [
              "APPLICATION_TYPE\n",
              "T3     27037\n",
              "T4      1542\n",
              "T6      1216\n",
              "T5      1173\n",
              "T19     1065\n",
              "T8       737\n",
              "T7       725\n",
              "T10      528\n",
              "T9       156\n",
              "T13       66\n",
              "T12       27\n",
              "T2        16\n",
              "T25        3\n",
              "T14        3\n",
              "T29        2\n",
              "T15        2\n",
              "T17        1\n",
              "Name: count, dtype: int64"
            ]
          },
          "metadata": {},
          "execution_count": 80
        }
      ],
      "source": [
        "# Look at APPLICATION_TYPE value counts for binning\n",
        "value_counts = application_df['APPLICATION_TYPE'].value_counts()\n",
        "value_counts"
      ]
    },
    {
      "cell_type": "code",
      "execution_count": 81,
      "metadata": {
        "colab": {
          "base_uri": "https://localhost:8080/"
        },
        "id": "aLj8T0diiOoX",
        "outputId": "4c451ef9-52a1-4511-dcdb-c6cd7668aba2"
      },
      "outputs": [
        {
          "output_type": "execute_result",
          "data": {
            "text/plain": [
              "APPLICATION_TYPE\n",
              "T3       27037\n",
              "T4        1542\n",
              "T6        1216\n",
              "T5        1173\n",
              "T19       1065\n",
              "T8         737\n",
              "T7         725\n",
              "T10        528\n",
              "Other      276\n",
              "Name: count, dtype: int64"
            ]
          },
          "metadata": {},
          "execution_count": 81
        }
      ],
      "source": [
        "# Choose a cutoff value and create a list of application types to be replaced\n",
        "# use the variable name `application_types_to_replace`\n",
        "application_types_to_replace = value_counts[value_counts < 500].index.tolist()\n",
        "\n",
        "# Replace in dataframe\n",
        "for app in application_types_to_replace:\n",
        "    application_df['APPLICATION_TYPE'] = application_df['APPLICATION_TYPE'].replace(app,\"Other\")\n",
        "\n",
        "# Check to make sure binning was successful\n",
        "application_df['APPLICATION_TYPE'].value_counts()"
      ]
    },
    {
      "cell_type": "code",
      "execution_count": 82,
      "metadata": {
        "colab": {
          "base_uri": "https://localhost:8080/"
        },
        "id": "0Ncw4xuqiOoX",
        "outputId": "de64f36e-ab04-4f00-f8d7-a225397a94af"
      },
      "outputs": [
        {
          "output_type": "execute_result",
          "data": {
            "text/plain": [
              "CLASSIFICATION\n",
              "C1000    17326\n",
              "C2000     6074\n",
              "C1200     4837\n",
              "C3000     1918\n",
              "C2100     1883\n",
              "         ...  \n",
              "C4120        1\n",
              "C8210        1\n",
              "C2561        1\n",
              "C4500        1\n",
              "C2150        1\n",
              "Name: count, Length: 71, dtype: int64"
            ]
          },
          "metadata": {},
          "execution_count": 82
        }
      ],
      "source": [
        "# Look at CLASSIFICATION value counts for binning\n",
        "value_counts = application_df['CLASSIFICATION'].value_counts()\n",
        "value_counts"
      ]
    },
    {
      "cell_type": "code",
      "execution_count": 83,
      "metadata": {
        "colab": {
          "base_uri": "https://localhost:8080/"
        },
        "id": "qcejiau0iOoY",
        "outputId": "4fe57787-7daf-434d-c005-b2f3a28fcd08"
      },
      "outputs": [
        {
          "output_type": "execute_result",
          "data": {
            "text/plain": [
              "CLASSIFICATION\n",
              "C1000    17326\n",
              "C2000     6074\n",
              "C1200     4837\n",
              "C3000     1918\n",
              "C2100     1883\n",
              "C7000      777\n",
              "C1700      287\n",
              "C4000      194\n",
              "C5000      116\n",
              "C1270      114\n",
              "C2700      104\n",
              "C2800       95\n",
              "C7100       75\n",
              "C1300       58\n",
              "C1280       50\n",
              "C1230       36\n",
              "C1400       34\n",
              "C7200       32\n",
              "C2300       32\n",
              "C1240       30\n",
              "C8000       20\n",
              "C7120       18\n",
              "C1500       16\n",
              "C1800       15\n",
              "C6000       15\n",
              "C1250       14\n",
              "C8200       11\n",
              "C1238       10\n",
              "C1278       10\n",
              "C1235        9\n",
              "C1237        9\n",
              "C7210        7\n",
              "C2400        6\n",
              "C1720        6\n",
              "C4100        6\n",
              "C1257        5\n",
              "C1600        5\n",
              "C1260        3\n",
              "C2710        3\n",
              "C0           3\n",
              "C3200        2\n",
              "C1234        2\n",
              "C1246        2\n",
              "C1267        2\n",
              "C1256        2\n",
              "Name: count, dtype: int64"
            ]
          },
          "metadata": {},
          "execution_count": 83
        }
      ],
      "source": [
        "# You may find it helpful to look at CLASSIFICATION value counts >1\n",
        "value_counts[value_counts > 1]"
      ]
    },
    {
      "cell_type": "code",
      "execution_count": 84,
      "metadata": {
        "colab": {
          "base_uri": "https://localhost:8080/"
        },
        "id": "wsGpPdwYiOoY",
        "outputId": "38049fd2-fd24-442f-b0db-35b8109d7b28"
      },
      "outputs": [
        {
          "output_type": "execute_result",
          "data": {
            "text/plain": [
              "CLASSIFICATION\n",
              "C1000    17326\n",
              "C2000     6074\n",
              "C1200     4837\n",
              "C3000     1918\n",
              "C2100     1883\n",
              "C7000      777\n",
              "Other      669\n",
              "C1700      287\n",
              "C4000      194\n",
              "C5000      116\n",
              "C1270      114\n",
              "C2700      104\n",
              "Name: count, dtype: int64"
            ]
          },
          "metadata": {},
          "execution_count": 84
        }
      ],
      "source": [
        "# Choose a cutoff value and create a list of classifications to be replaced\n",
        "# use the variable name `classifications_to_replace`\n",
        "classifications_to_replace = value_counts[value_counts < 100].index.tolist()\n",
        "\n",
        "# Replace in dataframe\n",
        "for cls in classifications_to_replace:\n",
        "    application_df['CLASSIFICATION'] = application_df['CLASSIFICATION'].replace(cls,\"Other\")\n",
        "\n",
        "# Check to make sure binning was successful\n",
        "application_df['CLASSIFICATION'].value_counts()"
      ]
    },
    {
      "cell_type": "code",
      "source": [
        "drop_cols = ['SPECIAL_CONSIDERATIONS']\n",
        "application_df = application_df.drop(drop_cols, axis=1)"
      ],
      "metadata": {
        "id": "ybxQ5HNS6ctA"
      },
      "execution_count": 85,
      "outputs": []
    },
    {
      "cell_type": "code",
      "execution_count": 86,
      "metadata": {
        "id": "43S3Gd10iOoZ"
      },
      "outputs": [],
      "source": [
        "# Convert categorical data to numeric with `pd.get_dummies`\n",
        "categoricals = ['APPLICATION_TYPE', 'AFFILIATION', 'USE_CASE', 'ORGANIZATION', 'INCOME_AMT', 'SPECIAL_CONSIDERATIONS', 'CLASSIFICATION']\n",
        "categoricals = [c for c in categoricals if c not in drop_cols]\n",
        "application_join_df = application_df.join(pd.get_dummies(application_df[categoricals], dtype=float))\n",
        "application_join_df = application_join_df.drop(categoricals, axis=1)\n"
      ]
    },
    {
      "cell_type": "code",
      "execution_count": 87,
      "metadata": {
        "id": "thf3LjxIiOoZ"
      },
      "outputs": [],
      "source": [
        "# Split our preprocessed data into our features and target arrays\n",
        "X = application_join_df.drop(['IS_SUCCESSFUL'], axis=1).astype('float32').values\n",
        "y = application_join_df['IS_SUCCESSFUL'].values[:, None].astype('float32')\n",
        "\n",
        "# Split the preprocessed data into a training and testing dataset\n",
        "X_train, X_test, y_train, y_test = train_test_split(X, y, random_state=42)"
      ]
    },
    {
      "cell_type": "code",
      "execution_count": 88,
      "metadata": {
        "id": "XiGRXpNDiOoa"
      },
      "outputs": [],
      "source": [
        "# Create a StandardScaler instances\n",
        "scaler = StandardScaler()\n",
        "\n",
        "# Fit the StandardScaler\n",
        "X_scaler = scaler.fit(X_train)\n",
        "\n",
        "# Scale the data\n",
        "X_train_scaled = X_scaler.transform(X_train)\n",
        "X_test_scaled = X_scaler.transform(X_test)"
      ]
    },
    {
      "cell_type": "markdown",
      "metadata": {
        "id": "fL1t-3NqiOoa"
      },
      "source": [
        "## Compile, Train and Evaluate the Model"
      ]
    },
    {
      "cell_type": "code",
      "execution_count": 89,
      "metadata": {
        "colab": {
          "base_uri": "https://localhost:8080/"
        },
        "id": "X_0H3fQXiOoa",
        "outputId": "6e303444-033e-40fc-abf5-bd54751dc4d6"
      },
      "outputs": [
        {
          "output_type": "stream",
          "name": "stdout",
          "text": [
            "Model: \"sequential_4\"\n",
            "_________________________________________________________________\n",
            " Layer (type)                Output Shape              Param #   \n",
            "=================================================================\n",
            " dense_14 (Dense)            (None, 94)                4512      \n",
            "                                                                 \n",
            " layer_normalization_3 (Lay  (None, 94)                188       \n",
            " erNormalization)                                                \n",
            "                                                                 \n",
            " batch_normalization_3 (Bat  (None, 94)                376       \n",
            " chNormalization)                                                \n",
            "                                                                 \n",
            " activation_4 (Activation)   (None, 94)                0         \n",
            "                                                                 \n",
            " dense_15 (Dense)            (None, 47)                4465      \n",
            "                                                                 \n",
            " layer_normalization_4 (Lay  (None, 47)                94        \n",
            " erNormalization)                                                \n",
            "                                                                 \n",
            " batch_normalization_4 (Bat  (None, 47)                188       \n",
            " chNormalization)                                                \n",
            "                                                                 \n",
            " re_lu_4 (ReLU)              (None, 47)                0         \n",
            "                                                                 \n",
            " dense_16 (Dense)            (None, 1)                 48        \n",
            "                                                                 \n",
            "=================================================================\n",
            "Total params: 9871 (38.56 KB)\n",
            "Trainable params: 9589 (37.46 KB)\n",
            "Non-trainable params: 282 (1.10 KB)\n",
            "_________________________________________________________________\n"
          ]
        }
      ],
      "source": [
        "# Define the model - deep neural net, i.e., the number of input features and hidden nodes for each layer.\n",
        "inp_dim = X.shape[1]\n",
        "hidden_dim = 2*inp_dim\n",
        "\n",
        "nn = tf.keras.models.Sequential()\n",
        "act = tf.keras.layers.ReLU()\n",
        "\n",
        "# First hidden layer\n",
        "nn.add(tf.keras.layers.Dense(units=hidden_dim, input_dim=inp_dim))\n",
        "nn.add(tf.keras.layers.LayerNormalization())\n",
        "nn.add(tf.keras.layers.BatchNormalization())\n",
        "nn.add(tf.keras.layers.Activation(act))\n",
        "\n",
        "# Second hidden layer\n",
        "nn.add(tf.keras.layers.Dense(units=hidden_dim//2))\n",
        "nn.add(tf.keras.layers.LayerNormalization())\n",
        "nn.add(tf.keras.layers.BatchNormalization())\n",
        "nn.add(act)\n",
        "\n",
        "# Output layer\n",
        "# nn.add(tf.keras.layers.Dense(units=1, activation=tf.keras.activations.hard_sigmoid))\n",
        "nn.add(tf.keras.layers.Dense(units=1, activation='sigmoid'))\n",
        "\n",
        "# Check the structure of the model\n",
        "nn.summary()"
      ]
    },
    {
      "cell_type": "code",
      "execution_count": 90,
      "metadata": {
        "id": "A8c_gBb8iOoa"
      },
      "outputs": [],
      "source": [
        "# Compile the model\n",
        "nn.compile(loss=\"binary_crossentropy\", optimizer=tf.keras.optimizers.Adam(1e-3), metrics=[\"accuracy\"])"
      ]
    },
    {
      "cell_type": "code",
      "source": [
        "cb = [tf.keras.callbacks.ReduceLROnPlateau(monitor=\"val_accuracy\",factor=0.1,patience=10,verbose=1),\n",
        "      tf.keras.callbacks.ModelCheckpoint(\"model.h5\", save_freq=5)]"
      ],
      "metadata": {
        "id": "u4gh0NP3WcGG"
      },
      "execution_count": 91,
      "outputs": []
    },
    {
      "cell_type": "code",
      "execution_count": 92,
      "metadata": {
        "colab": {
          "base_uri": "https://localhost:8080/"
        },
        "id": "5WeXw4Q0iOob",
        "outputId": "90686d2e-6dba-4858-8162-1123bf967238"
      },
      "outputs": [
        {
          "output_type": "stream",
          "name": "stdout",
          "text": [
            "Epoch 1/50\n",
            " 15/804 [..............................] - ETA: 9s - loss: 0.7453 - accuracy: 0.5417 "
          ]
        },
        {
          "output_type": "stream",
          "name": "stderr",
          "text": [
            "/usr/local/lib/python3.10/dist-packages/keras/src/engine/training.py:3103: UserWarning: You are saving your model as an HDF5 file via `model.save()`. This file format is considered legacy. We recommend using instead the native Keras format, e.g. `model.save('my_model.keras')`.\n",
            "  saving_api.save_model(\n"
          ]
        },
        {
          "output_type": "stream",
          "name": "stdout",
          "text": [
            "804/804 [==============================] - 13s 14ms/step - loss: 0.5760 - accuracy: 0.7130 - val_loss: 0.5598 - val_accuracy: 0.7233 - lr: 0.0010\n",
            "Epoch 2/50\n",
            "804/804 [==============================] - 11s 13ms/step - loss: 0.5588 - accuracy: 0.7247 - val_loss: 0.5542 - val_accuracy: 0.7278 - lr: 0.0010\n",
            "Epoch 3/50\n",
            "804/804 [==============================] - 11s 14ms/step - loss: 0.5568 - accuracy: 0.7265 - val_loss: 0.5534 - val_accuracy: 0.7269 - lr: 0.0010\n",
            "Epoch 4/50\n",
            "804/804 [==============================] - 10s 12ms/step - loss: 0.5547 - accuracy: 0.7282 - val_loss: 0.5521 - val_accuracy: 0.7315 - lr: 0.0010\n",
            "Epoch 5/50\n",
            "804/804 [==============================] - 11s 13ms/step - loss: 0.5532 - accuracy: 0.7287 - val_loss: 0.5524 - val_accuracy: 0.7282 - lr: 0.0010\n",
            "Epoch 6/50\n",
            "804/804 [==============================] - 10s 13ms/step - loss: 0.5523 - accuracy: 0.7283 - val_loss: 0.5516 - val_accuracy: 0.7259 - lr: 0.0010\n",
            "Epoch 7/50\n",
            "804/804 [==============================] - 11s 13ms/step - loss: 0.5525 - accuracy: 0.7287 - val_loss: 0.5507 - val_accuracy: 0.7299 - lr: 0.0010\n",
            "Epoch 8/50\n",
            "804/804 [==============================] - 10s 13ms/step - loss: 0.5507 - accuracy: 0.7292 - val_loss: 0.5493 - val_accuracy: 0.7328 - lr: 0.0010\n",
            "Epoch 9/50\n",
            "804/804 [==============================] - 11s 13ms/step - loss: 0.5497 - accuracy: 0.7303 - val_loss: 0.5505 - val_accuracy: 0.7325 - lr: 0.0010\n",
            "Epoch 10/50\n",
            "804/804 [==============================] - 10s 13ms/step - loss: 0.5497 - accuracy: 0.7306 - val_loss: 0.5497 - val_accuracy: 0.7324 - lr: 0.0010\n",
            "Epoch 11/50\n",
            "804/804 [==============================] - 10s 12ms/step - loss: 0.5487 - accuracy: 0.7306 - val_loss: 0.5502 - val_accuracy: 0.7333 - lr: 0.0010\n",
            "Epoch 12/50\n",
            "804/804 [==============================] - 11s 13ms/step - loss: 0.5485 - accuracy: 0.7313 - val_loss: 0.5506 - val_accuracy: 0.7296 - lr: 0.0010\n",
            "Epoch 13/50\n",
            "804/804 [==============================] - 11s 13ms/step - loss: 0.5478 - accuracy: 0.7306 - val_loss: 0.5509 - val_accuracy: 0.7326 - lr: 0.0010\n",
            "Epoch 14/50\n",
            "804/804 [==============================] - 11s 14ms/step - loss: 0.5474 - accuracy: 0.7316 - val_loss: 0.5477 - val_accuracy: 0.7345 - lr: 0.0010\n",
            "Epoch 15/50\n",
            "804/804 [==============================] - 11s 14ms/step - loss: 0.5479 - accuracy: 0.7317 - val_loss: 0.5505 - val_accuracy: 0.7256 - lr: 0.0010\n",
            "Epoch 16/50\n",
            "804/804 [==============================] - 11s 14ms/step - loss: 0.5470 - accuracy: 0.7331 - val_loss: 0.5525 - val_accuracy: 0.7266 - lr: 0.0010\n",
            "Epoch 17/50\n",
            "804/804 [==============================] - 11s 13ms/step - loss: 0.5477 - accuracy: 0.7314 - val_loss: 0.5492 - val_accuracy: 0.7306 - lr: 0.0010\n",
            "Epoch 18/50\n",
            "804/804 [==============================] - 11s 14ms/step - loss: 0.5467 - accuracy: 0.7313 - val_loss: 0.5522 - val_accuracy: 0.7235 - lr: 0.0010\n",
            "Epoch 19/50\n",
            "804/804 [==============================] - 11s 14ms/step - loss: 0.5472 - accuracy: 0.7315 - val_loss: 0.5497 - val_accuracy: 0.7291 - lr: 0.0010\n",
            "Epoch 20/50\n",
            "804/804 [==============================] - 10s 13ms/step - loss: 0.5461 - accuracy: 0.7322 - val_loss: 0.5490 - val_accuracy: 0.7310 - lr: 0.0010\n",
            "Epoch 21/50\n",
            "804/804 [==============================] - 11s 13ms/step - loss: 0.5455 - accuracy: 0.7312 - val_loss: 0.5506 - val_accuracy: 0.7333 - lr: 0.0010\n",
            "Epoch 22/50\n",
            "804/804 [==============================] - 11s 13ms/step - loss: 0.5461 - accuracy: 0.7319 - val_loss: 0.5498 - val_accuracy: 0.7275 - lr: 0.0010\n",
            "Epoch 23/50\n",
            "804/804 [==============================] - 11s 13ms/step - loss: 0.5445 - accuracy: 0.7338 - val_loss: 0.5490 - val_accuracy: 0.7318 - lr: 0.0010\n",
            "Epoch 24/50\n",
            "803/804 [============================>.] - ETA: 0s - loss: 0.5451 - accuracy: 0.7320\n",
            "Epoch 24: ReduceLROnPlateau reducing learning rate to 0.00010000000474974513.\n",
            "804/804 [==============================] - 11s 14ms/step - loss: 0.5453 - accuracy: 0.7320 - val_loss: 0.5490 - val_accuracy: 0.7321 - lr: 0.0010\n",
            "Epoch 25/50\n",
            "804/804 [==============================] - 11s 13ms/step - loss: 0.5415 - accuracy: 0.7371 - val_loss: 0.5477 - val_accuracy: 0.7310 - lr: 1.0000e-04\n",
            "Epoch 26/50\n",
            "804/804 [==============================] - 11s 13ms/step - loss: 0.5408 - accuracy: 0.7352 - val_loss: 0.5475 - val_accuracy: 0.7314 - lr: 1.0000e-04\n",
            "Epoch 27/50\n",
            "804/804 [==============================] - 11s 14ms/step - loss: 0.5410 - accuracy: 0.7360 - val_loss: 0.5476 - val_accuracy: 0.7315 - lr: 1.0000e-04\n",
            "Epoch 28/50\n",
            "804/804 [==============================] - 10s 13ms/step - loss: 0.5394 - accuracy: 0.7352 - val_loss: 0.5476 - val_accuracy: 0.7317 - lr: 1.0000e-04\n",
            "Epoch 29/50\n",
            "804/804 [==============================] - 11s 13ms/step - loss: 0.5394 - accuracy: 0.7372 - val_loss: 0.5478 - val_accuracy: 0.7318 - lr: 1.0000e-04\n",
            "Epoch 30/50\n",
            "804/804 [==============================] - 11s 14ms/step - loss: 0.5406 - accuracy: 0.7362 - val_loss: 0.5477 - val_accuracy: 0.7300 - lr: 1.0000e-04\n",
            "Epoch 31/50\n",
            "804/804 [==============================] - 11s 13ms/step - loss: 0.5404 - accuracy: 0.7348 - val_loss: 0.5479 - val_accuracy: 0.7318 - lr: 1.0000e-04\n",
            "Epoch 32/50\n",
            "804/804 [==============================] - 11s 13ms/step - loss: 0.5398 - accuracy: 0.7363 - val_loss: 0.5479 - val_accuracy: 0.7299 - lr: 1.0000e-04\n",
            "Epoch 33/50\n",
            "804/804 [==============================] - 11s 14ms/step - loss: 0.5387 - accuracy: 0.7372 - val_loss: 0.5479 - val_accuracy: 0.7301 - lr: 1.0000e-04\n",
            "Epoch 34/50\n",
            "803/804 [============================>.] - ETA: 0s - loss: 0.5406 - accuracy: 0.7369\n",
            "Epoch 34: ReduceLROnPlateau reducing learning rate to 1.0000000474974514e-05.\n",
            "804/804 [==============================] - 11s 13ms/step - loss: 0.5407 - accuracy: 0.7367 - val_loss: 0.5482 - val_accuracy: 0.7301 - lr: 1.0000e-04\n",
            "Epoch 35/50\n",
            "804/804 [==============================] - 11s 14ms/step - loss: 0.5393 - accuracy: 0.7363 - val_loss: 0.5481 - val_accuracy: 0.7298 - lr: 1.0000e-05\n",
            "Epoch 36/50\n",
            "804/804 [==============================] - 10s 13ms/step - loss: 0.5393 - accuracy: 0.7355 - val_loss: 0.5481 - val_accuracy: 0.7304 - lr: 1.0000e-05\n",
            "Epoch 37/50\n",
            "804/804 [==============================] - 10s 13ms/step - loss: 0.5386 - accuracy: 0.7370 - val_loss: 0.5481 - val_accuracy: 0.7299 - lr: 1.0000e-05\n",
            "Epoch 38/50\n",
            "804/804 [==============================] - 11s 14ms/step - loss: 0.5394 - accuracy: 0.7349 - val_loss: 0.5482 - val_accuracy: 0.7299 - lr: 1.0000e-05\n",
            "Epoch 39/50\n",
            "804/804 [==============================] - 11s 14ms/step - loss: 0.5393 - accuracy: 0.7360 - val_loss: 0.5482 - val_accuracy: 0.7299 - lr: 1.0000e-05\n",
            "Epoch 40/50\n",
            "804/804 [==============================] - 11s 13ms/step - loss: 0.5385 - accuracy: 0.7379 - val_loss: 0.5481 - val_accuracy: 0.7300 - lr: 1.0000e-05\n",
            "Epoch 41/50\n",
            "804/804 [==============================] - 11s 14ms/step - loss: 0.5386 - accuracy: 0.7366 - val_loss: 0.5481 - val_accuracy: 0.7301 - lr: 1.0000e-05\n",
            "Epoch 42/50\n",
            "804/804 [==============================] - 11s 13ms/step - loss: 0.5390 - accuracy: 0.7372 - val_loss: 0.5482 - val_accuracy: 0.7312 - lr: 1.0000e-05\n",
            "Epoch 43/50\n",
            "804/804 [==============================] - 11s 14ms/step - loss: 0.5382 - accuracy: 0.7375 - val_loss: 0.5481 - val_accuracy: 0.7312 - lr: 1.0000e-05\n",
            "Epoch 44/50\n",
            "803/804 [============================>.] - ETA: 0s - loss: 0.5386 - accuracy: 0.7370\n",
            "Epoch 44: ReduceLROnPlateau reducing learning rate to 1.0000000656873453e-06.\n",
            "804/804 [==============================] - 11s 14ms/step - loss: 0.5386 - accuracy: 0.7369 - val_loss: 0.5482 - val_accuracy: 0.7311 - lr: 1.0000e-05\n",
            "Epoch 45/50\n",
            "804/804 [==============================] - 11s 14ms/step - loss: 0.5394 - accuracy: 0.7363 - val_loss: 0.5482 - val_accuracy: 0.7312 - lr: 1.0000e-06\n",
            "Epoch 46/50\n",
            "804/804 [==============================] - 11s 13ms/step - loss: 0.5387 - accuracy: 0.7369 - val_loss: 0.5482 - val_accuracy: 0.7312 - lr: 1.0000e-06\n",
            "Epoch 47/50\n",
            "804/804 [==============================] - 11s 14ms/step - loss: 0.5393 - accuracy: 0.7363 - val_loss: 0.5482 - val_accuracy: 0.7312 - lr: 1.0000e-06\n",
            "Epoch 48/50\n",
            "804/804 [==============================] - 11s 14ms/step - loss: 0.5395 - accuracy: 0.7363 - val_loss: 0.5482 - val_accuracy: 0.7313 - lr: 1.0000e-06\n",
            "Epoch 49/50\n",
            "804/804 [==============================] - 11s 13ms/step - loss: 0.5391 - accuracy: 0.7371 - val_loss: 0.5482 - val_accuracy: 0.7300 - lr: 1.0000e-06\n",
            "Epoch 50/50\n",
            "804/804 [==============================] - 11s 13ms/step - loss: 0.5380 - accuracy: 0.7372 - val_loss: 0.5482 - val_accuracy: 0.7312 - lr: 1.0000e-06\n"
          ]
        },
        {
          "output_type": "execute_result",
          "data": {
            "text/plain": [
              "<keras.src.callbacks.History at 0x7f0ef3f09a80>"
            ]
          },
          "metadata": {},
          "execution_count": 92
        }
      ],
      "source": [
        "# Train the model\n",
        "nn.fit(X_train_scaled, y_train, validation_data=(X_test_scaled,y_test), epochs=50, callbacks=cb)"
      ]
    },
    {
      "cell_type": "code",
      "execution_count": 93,
      "metadata": {
        "colab": {
          "base_uri": "https://localhost:8080/"
        },
        "id": "G6Orn6qyiOob",
        "outputId": "f8715c18-fa2a-424a-d926-de683c411165"
      },
      "outputs": [
        {
          "output_type": "stream",
          "name": "stdout",
          "text": [
            "268/268 - 1s - loss: 0.5482 - accuracy: 0.7312 - 672ms/epoch - 3ms/step\n",
            "Loss: 0.5481560230255127, Accuracy: 0.731195330619812\n"
          ]
        }
      ],
      "source": [
        "# Evaluate the model using the test data\n",
        "model_loss, model_accuracy = nn.evaluate(X_test_scaled,y_test,verbose=2)\n",
        "print(f\"Loss: {model_loss}, Accuracy: {model_accuracy}\")"
      ]
    },
    {
      "cell_type": "code",
      "execution_count": 95,
      "metadata": {
        "id": "wDyrqlZKiOob"
      },
      "outputs": [],
      "source": [
        "# Export our model to HDF5 file\n",
        "nn.save('AlphabetSoupCharity.h5')"
      ]
    }
  ],
  "metadata": {
    "kernelspec": {
      "display_name": "Python 3",
      "language": "python",
      "name": "python3"
    },
    "language_info": {
      "codemirror_mode": {
        "name": "ipython",
        "version": 3
      },
      "file_extension": ".py",
      "mimetype": "text/x-python",
      "name": "python",
      "nbconvert_exporter": "python",
      "pygments_lexer": "ipython3",
      "version": "3.12.2"
    },
    "vscode": {
      "interpreter": {
        "hash": "31f2aee4e71d21fbe5cf8b01ff0e069b9275f58929596ceb00d14d90e3e16cd6"
      }
    },
    "colab": {
      "provenance": []
    }
  },
  "nbformat": 4,
  "nbformat_minor": 0
}